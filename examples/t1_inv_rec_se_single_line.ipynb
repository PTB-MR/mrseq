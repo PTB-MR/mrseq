{
 "cells": [
  {
   "cell_type": "markdown",
   "id": "0",
   "metadata": {},
   "source": [
    "# T1 Mapping - IR SE\n",
    "\n",
    "T1 mapping using a spin echo sequence where a single readout line is acquired after an inversion pulse. \n",
    "Multiple images are obtained at different inversion times."
   ]
  },
  {
   "cell_type": "markdown",
   "id": "1",
   "metadata": {},
   "source": [
    "### Imports"
   ]
  },
  {
   "cell_type": "code",
   "execution_count": null,
   "id": "2",
   "metadata": {},
   "outputs": [],
   "source": [
    "from pathlib import Path\n",
    "\n",
    "import matplotlib.pyplot as plt\n",
    "import MRzeroCore as mr0\n",
    "import numpy as np\n",
    "import torch\n",
    "from einops import rearrange\n",
    "from mrpro.algorithms.reconstruction import DirectReconstruction\n",
    "from mrpro.data import KData\n",
    "from mrpro.data.traj_calculators import KTrajectoryCartesian\n",
    "from mrpro.operators import DictionaryMatchOp\n",
    "from mrpro.operators.models import InversionRecovery\n",
    "\n",
    "from mrseq.scripts.t1_inv_rec_se_single_line import main as create_seq\n",
    "from mrseq.utils import sys_defaults"
   ]
  },
  {
   "cell_type": "markdown",
   "id": "3",
   "metadata": {},
   "source": [
    "### Settings"
   ]
  },
  {
   "cell_type": "code",
   "execution_count": null,
   "id": "4",
   "metadata": {},
   "outputs": [],
   "source": [
    "image_matrix_size = [128, 128]\n",
    "inversion_times = [0.025, 0.050, 0.3, 0.6, 1.2, 2.4, 4.8, 8.0]\n",
    "fname_seq = Path('/Users/kolbit01/Desktop/mp/t1_inv.seq')\n",
    "fname_mrd = Path('/Users/kolbit01/Desktop/mp/t1_inv.mrd')"
   ]
  },
  {
   "cell_type": "markdown",
   "id": "5",
   "metadata": {},
   "source": [
    "### Create digital phantom"
   ]
  },
  {
   "cell_type": "code",
   "execution_count": null,
   "id": "6",
   "metadata": {},
   "outputs": [],
   "source": [
    "phantom = mr0.util.load_phantom(image_matrix_size)\n",
    "phantom.B0[:] = 0\n",
    "phantom.B1[:] = 1.0"
   ]
  },
  {
   "cell_type": "markdown",
   "id": "7",
   "metadata": {},
   "source": [
    "### Create sequence"
   ]
  },
  {
   "cell_type": "code",
   "execution_count": null,
   "id": "8",
   "metadata": {},
   "outputs": [],
   "source": [
    "sequence = create_seq(\n",
    "    system=sys_defaults,\n",
    "    show_plots=False,\n",
    "    fov_xy=float(phantom.size.numpy()[0]),\n",
    "    tr=20,\n",
    "    n_readout=image_matrix_size[0],\n",
    "    n_phase_encoding=image_matrix_size[1],\n",
    "    inversion_times=inversion_times,\n",
    ")\n",
    "sequence.write(str(fname_seq))"
   ]
  },
  {
   "cell_type": "markdown",
   "id": "9",
   "metadata": {},
   "source": [
    "### Simulate sequence"
   ]
  },
  {
   "cell_type": "code",
   "execution_count": null,
   "id": "10",
   "metadata": {},
   "outputs": [],
   "source": [
    "mr0_sequence = mr0.Sequence.import_file(str(fname_seq))\n",
    "signal, ktraj_adc = mr0.util.simulate(mr0_sequence, phantom, accuracy=1e-5)\n",
    "mr0.sig_to_mrd(fname_mrd, signal, sequence, verbose=1)"
   ]
  },
  {
   "cell_type": "markdown",
   "id": "11",
   "metadata": {},
   "source": [
    "### Reconstruct images"
   ]
  },
  {
   "cell_type": "code",
   "execution_count": null,
   "id": "12",
   "metadata": {},
   "outputs": [],
   "source": [
    "kdata = KData.from_file(fname_mrd, trajectory=KTrajectoryCartesian())\n",
    "kdata.header.encoding_matrix.x = 128\n",
    "kdata.header.encoding_matrix.y = 128\n",
    "kdata.header.encoding_matrix.z = 1\n",
    "kdata.header.recon_matrix.x = 128\n",
    "kdata.header.recon_matrix.y = 128\n",
    "kdata.header.recon_matrix.z = 1\n",
    "recon = DirectReconstruction(kdata, csm=None)\n",
    "idata = recon(kdata)"
   ]
  },
  {
   "cell_type": "code",
   "execution_count": null,
   "id": "13",
   "metadata": {},
   "outputs": [],
   "source": [
    "idat = idata.data.abs().numpy().squeeze()\n",
    "fig, ax = plt.subplots(1, idat.shape[0], figsize=(15, 5))\n",
    "for i in range(idat.shape[0]):\n",
    "    ax[i].imshow(idat[i, :, :], cmap='gray')"
   ]
  },
  {
   "cell_type": "markdown",
   "id": "14",
   "metadata": {},
   "source": [
    "### Estimate T1 maps"
   ]
  },
  {
   "cell_type": "code",
   "execution_count": null,
   "id": "15",
   "metadata": {},
   "outputs": [],
   "source": [
    "dictionary = DictionaryMatchOp(InversionRecovery(ti=idata.header.ti), index_of_scaling_parameter=0)\n",
    "dictionary.append(torch.tensor(1.0), torch.linspace(0.1, 5.0, 1000)[None, :])\n",
    "m0_match, t1_match = dictionary(idata.data[:, 0, 0])\n",
    "m0_match /= m0_match.abs().max()\n",
    "\n",
    "t1_input = np.roll(rearrange(phantom.T1.numpy().squeeze()[::-1, ::-1], 'x y -> y x'), shift=(1, 1), axis=(0, 1))\n",
    "obj_mask = np.zeros_like(t1_input)\n",
    "obj_mask[t1_input > 0] = 1\n",
    "t1_output = t1_match.numpy().squeeze() * obj_mask\n",
    "fig, ax = plt.subplots(1, 3, figsize=(15, 5))\n",
    "ax[0].imshow(t1_input, vmin=0, vmax=3)\n",
    "ax[1].imshow(t1_output, vmin=0, vmax=3)\n",
    "ax[2].imshow(np.abs(t1_input - t1_output), vmin=0, vmax=0.1)\n",
    "\n",
    "relative_error = np.sum(np.abs((t1_input - t1_output) * obj_mask)) / np.sum(np.abs(t1_input * obj_mask))\n",
    "print(f'relative error {relative_error}')"
   ]
  },
  {
   "cell_type": "code",
   "execution_count": null,
   "id": "16",
   "metadata": {},
   "outputs": [],
   "source": [
    "kdata"
   ]
  }
 ],
 "metadata": {
  "kernelspec": {
   "display_name": "temp",
   "language": "python",
   "name": "python3"
  }
 },
 "nbformat": 4,
 "nbformat_minor": 5
}
