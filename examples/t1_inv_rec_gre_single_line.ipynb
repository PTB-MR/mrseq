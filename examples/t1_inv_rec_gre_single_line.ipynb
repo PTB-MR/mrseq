{
 "cells": [
  {
   "cell_type": "markdown",
   "id": "0",
   "metadata": {},
   "source": [
    "# T1 Mapping - IR GRE\n",
    "\n",
    "T1 mapping using a spoiled gradient echo sequence where a single readout line is acquired after an inversion pulse. \n",
    "Multiple images are obtained at different inversion times."
   ]
  },
  {
   "cell_type": "markdown",
   "id": "1",
   "metadata": {},
   "source": [
    "### Imports"
   ]
  },
  {
   "cell_type": "code",
   "execution_count": null,
   "id": "2",
   "metadata": {},
   "outputs": [],
   "source": [
    "from pathlib import Path\n",
    "\n",
    "import ismrmrd\n",
    "import matplotlib.pyplot as plt\n",
    "import MRzeroCore as mr0\n",
    "import numpy as np\n",
    "import torch\n",
    "from einops import rearrange\n",
    "from mrpro.algorithms.reconstruction import DirectReconstruction\n",
    "from mrpro.data import KData\n",
    "from mrpro.data.traj_calculators import KTrajectoryCartesian\n",
    "from mrpro.data.traj_calculators import KTrajectoryIsmrmrd\n",
    "from mrpro.operators import DictionaryMatchOp\n",
    "from mrpro.operators.models import InversionRecovery\n",
    "\n",
    "from mrseq.scripts.t1_inv_rec_gre_single_line import main as create_seq\n",
    "from mrseq.utils import sys_defaults"
   ]
  },
  {
   "cell_type": "markdown",
   "id": "3",
   "metadata": {},
   "source": [
    "### Settings"
   ]
  },
  {
   "cell_type": "code",
   "execution_count": null,
   "id": "4",
   "metadata": {},
   "outputs": [],
   "source": [
    "image_matrix_size = [128, 128]\n",
    "inversion_times = [0.025, 0.050, 0.3, 0.6, 1.2, 2.4, 4.8, 8.0]\n",
    "fname_seq = Path('/Users/kolbit01/Desktop/mp/t1_inv.seq')\n",
    "fname_mrd = Path('/Users/kolbit01/Desktop/mp/t1_inv.mrd')"
   ]
  },
  {
   "cell_type": "markdown",
   "id": "5",
   "metadata": {},
   "source": [
    "### Create digital phantom"
   ]
  },
  {
   "cell_type": "code",
   "execution_count": null,
   "id": "6",
   "metadata": {},
   "outputs": [],
   "source": [
    "phantom = mr0.util.load_phantom(image_matrix_size)"
   ]
  },
  {
   "cell_type": "markdown",
   "id": "7",
   "metadata": {},
   "source": [
    "### Create sequence"
   ]
  },
  {
   "cell_type": "code",
   "execution_count": null,
   "id": "8",
   "metadata": {},
   "outputs": [],
   "source": [
    "sequence = create_seq(\n",
    "    system=sys_defaults,\n",
    "    show_plots=False,\n",
    "    fov_xy=float(phantom.size.numpy()[0]),\n",
    "    tr=20,\n",
    "    n_readout=image_matrix_size[0],\n",
    "    n_phase_encoding=image_matrix_size[1],\n",
    "    inversion_times=inversion_times,\n",
    ")\n",
    "sequence.write(str(fname_seq))"
   ]
  },
  {
   "cell_type": "markdown",
   "id": "9",
   "metadata": {},
   "source": [
    "### Simulate sequence"
   ]
  },
  {
   "cell_type": "code",
   "execution_count": null,
   "id": "10",
   "metadata": {},
   "outputs": [],
   "source": [
    "mr0_sequence = mr0.Sequence.import_file(str(fname_seq))\n",
    "signal, ktraj_adc = mr0.util.simulate(mr0_sequence, phantom, accuracy=1e-5)\n",
    "mr0.sig_to_mrd(fname_mrd, signal, sequence, verbose=1)"
   ]
  },
  {
   "cell_type": "code",
   "execution_count": null,
   "id": "11",
   "metadata": {},
   "outputs": [],
   "source": [
    "with ismrmrd.File(fname_mrd, 'r') as file:\n",
    "    ds = file[list(file.keys())[-1]]\n",
    "    ismrmrd_header = ds.header\n",
    "    acquisitions = ds.acquisitions[:]\n",
    "\n",
    "# ismrmrd_header.encoding[0].encodedSpace.matrixSize.x = 128\n",
    "# ismrmrd_header.encoding[0].encodedSpace.matrixSize.y = 128\n",
    "# ismrmrd_header.encoding[0].encodedSpace.matrixSize.z = 1\n",
    "# ismrmrd_header.encoding[0].reconSpace.matrixSize.x = 128\n",
    "# ismrmrd_header.encoding[0].reconSpace.matrixSize.y = 128\n",
    "# ismrmrd_header.encoding[0].reconSpace.matrixSize.z = 1\n",
    "\n",
    "ismrmrd_header.sequenceParameters.TI = [ti * 1000 for ti in ismrmrd_header.sequenceParameters.TI]\n",
    "\n",
    "exp = ismrmrd.xsd.experimentalConditionsType()\n",
    "exp.H1resonanceFrequency_Hz = 127729200  # 3T\n",
    "ismrmrd_header.experimentalConditions = exp\n",
    "\n",
    "# Create new file\n",
    "if fname_mrd.exists():\n",
    "    fname_mrd.unlink()\n",
    "ds = ismrmrd.Dataset(fname_mrd)\n",
    "ds.write_xml_header(ismrmrd_header.toXML())\n",
    "\n",
    "for acq in acquisitions:\n",
    "    acq.read_dir[0] = 1\n",
    "    acq.phase_dir[1] = 1\n",
    "    acq.slice_dir[2] = 1\n",
    "    ds.append_acquisition(acq)\n",
    "ds.close()"
   ]
  },
  {
   "cell_type": "markdown",
   "id": "12",
   "metadata": {},
   "source": [
    "### Reconstruct images"
   ]
  },
  {
   "cell_type": "code",
   "execution_count": null,
   "id": "13",
   "metadata": {},
   "outputs": [],
   "source": [
    "kdata = KData.from_file(fname_mrd, trajectory=KTrajectoryIsmrmrd(normalize=True))\n",
    "kdata = KData.from_file(fname_mrd, trajectory=KTrajectoryCartesian())\n",
    "kdata.header.encoding_matrix.x = 128\n",
    "kdata.header.encoding_matrix.y = 128\n",
    "kdata.header.encoding_matrix.z = 1\n",
    "kdata.header.recon_matrix.x = 128\n",
    "kdata.header.recon_matrix.y = 128\n",
    "kdata.header.recon_matrix.z = 1\n",
    "kdata.traj.kz[:] = 0\n",
    "recon = DirectReconstruction(kdata, csm=None)\n",
    "idata = recon(kdata)"
   ]
  },
  {
   "cell_type": "code",
   "execution_count": null,
   "id": "14",
   "metadata": {},
   "outputs": [],
   "source": [
    "idat = idata.data.abs().numpy().squeeze()\n",
    "fig, ax = plt.subplots(1, idat.shape[0], figsize=(15, 5))\n",
    "for i in range(idat.shape[0]):\n",
    "    ax[i].imshow(idat[i, :, :], cmap='gray')"
   ]
  },
  {
   "cell_type": "markdown",
   "id": "15",
   "metadata": {},
   "source": [
    "### Estimate T1 maps"
   ]
  },
  {
   "cell_type": "code",
   "execution_count": null,
   "id": "16",
   "metadata": {},
   "outputs": [],
   "source": [
    "dictionary = DictionaryMatchOp(InversionRecovery(ti=idata.header.ti), index_of_scaling_parameter=0)\n",
    "dictionary.append(torch.tensor(1.0), torch.linspace(0.1, 5.0, 1000)[None, :])\n",
    "m0_match, t1_match = dictionary(idata.data[:, 0, 0])\n",
    "m0_match /= m0_match.abs().max()\n",
    "\n",
    "t1_input = rearrange(phantom.T1.numpy().squeeze()[::-1, ::-1], 'x y -> y x')\n",
    "obj_mask = np.zeros_like(phantom.PD)\n",
    "obj_mask[phantom.PD > 0] = 1\n",
    "obj_mask = rearrange(np.squeeze(obj_mask)[::-1, ::-1], 'x y -> y x')\n",
    "t1_output = t1_match.numpy().squeeze() * obj_mask\n",
    "fig, ax = plt.subplots(1, 3, figsize=(15, 5))\n",
    "ax[0].imshow(t1_input, vmin=0, vmax=3)\n",
    "ax[1].imshow(t1_output, vmin=0, vmax=3)\n",
    "ax[2].imshow(np.abs(t1_input - t1_output), vmin=0, vmax=3)"
   ]
  }
 ],
 "metadata": {
  "kernelspec": {
   "display_name": "mrseq_mrzero",
   "language": "python",
   "name": "python3"
  }
 },
 "nbformat": 4,
 "nbformat_minor": 5
}
